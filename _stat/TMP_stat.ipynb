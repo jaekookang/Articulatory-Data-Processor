{
 "cells": [
  {
   "cell_type": "markdown",
   "metadata": {},
   "source": [
    "- https://m-clark.github.io/mixed-models-with-R/random_intercepts.html\n",
    "- https://www.r-bloggers.com/2017/12/linear-mixed-effect-models-in-r/"
   ]
  },
  {
   "cell_type": "code",
   "execution_count": 1,
   "metadata": {},
   "outputs": [
    {
     "name": "stderr",
     "output_type": "stream",
     "text": [
      "Loading required package: Matrix\n",
      "\n"
     ]
    }
   ],
   "source": [
    "library(lme4)\n",
    "data('sleepstudy')"
   ]
  },
  {
   "cell_type": "code",
   "execution_count": 2,
   "metadata": {},
   "outputs": [
    {
     "data": {
      "text/html": [
       "<table class=\"dataframe\">\n",
       "<caption>A data.frame: 6 × 3</caption>\n",
       "<thead>\n",
       "\t<tr><th></th><th scope=col>Reaction</th><th scope=col>Days</th><th scope=col>Subject</th></tr>\n",
       "\t<tr><th></th><th scope=col>&lt;dbl&gt;</th><th scope=col>&lt;dbl&gt;</th><th scope=col>&lt;fct&gt;</th></tr>\n",
       "</thead>\n",
       "<tbody>\n",
       "\t<tr><th scope=row>1</th><td>249.5600</td><td>0</td><td>308</td></tr>\n",
       "\t<tr><th scope=row>2</th><td>258.7047</td><td>1</td><td>308</td></tr>\n",
       "\t<tr><th scope=row>3</th><td>250.8006</td><td>2</td><td>308</td></tr>\n",
       "\t<tr><th scope=row>4</th><td>321.4398</td><td>3</td><td>308</td></tr>\n",
       "\t<tr><th scope=row>5</th><td>356.8519</td><td>4</td><td>308</td></tr>\n",
       "\t<tr><th scope=row>6</th><td>414.6901</td><td>5</td><td>308</td></tr>\n",
       "</tbody>\n",
       "</table>\n"
      ],
      "text/latex": [
       "A data.frame: 6 × 3\n",
       "\\begin{tabular}{r|lll}\n",
       "  & Reaction & Days & Subject\\\\\n",
       "  & <dbl> & <dbl> & <fct>\\\\\n",
       "\\hline\n",
       "\t1 & 249.5600 & 0 & 308\\\\\n",
       "\t2 & 258.7047 & 1 & 308\\\\\n",
       "\t3 & 250.8006 & 2 & 308\\\\\n",
       "\t4 & 321.4398 & 3 & 308\\\\\n",
       "\t5 & 356.8519 & 4 & 308\\\\\n",
       "\t6 & 414.6901 & 5 & 308\\\\\n",
       "\\end{tabular}\n"
      ],
      "text/markdown": [
       "\n",
       "A data.frame: 6 × 3\n",
       "\n",
       "| <!--/--> | Reaction &lt;dbl&gt; | Days &lt;dbl&gt; | Subject &lt;fct&gt; |\n",
       "|---|---|---|---|\n",
       "| 1 | 249.5600 | 0 | 308 |\n",
       "| 2 | 258.7047 | 1 | 308 |\n",
       "| 3 | 250.8006 | 2 | 308 |\n",
       "| 4 | 321.4398 | 3 | 308 |\n",
       "| 5 | 356.8519 | 4 | 308 |\n",
       "| 6 | 414.6901 | 5 | 308 |\n",
       "\n"
      ],
      "text/plain": [
       "  Reaction Days Subject\n",
       "1 249.5600 0    308    \n",
       "2 258.7047 1    308    \n",
       "3 250.8006 2    308    \n",
       "4 321.4398 3    308    \n",
       "5 356.8519 4    308    \n",
       "6 414.6901 5    308    "
      ]
     },
     "metadata": {},
     "output_type": "display_data"
    }
   ],
   "source": [
    "head(sleepstudy)"
   ]
  },
  {
   "cell_type": "code",
   "execution_count": 3,
   "metadata": {},
   "outputs": [
    {
     "data": {
      "text/html": [
       "<table class=\"dataframe\">\n",
       "<caption>A data.frame: 6 × 3</caption>\n",
       "<thead>\n",
       "\t<tr><th></th><th scope=col>x</th><th scope=col>y</th><th scope=col>groups</th></tr>\n",
       "\t<tr><th></th><th scope=col>&lt;dbl&gt;</th><th scope=col>&lt;dbl&gt;</th><th scope=col>&lt;fct&gt;</th></tr>\n",
       "</thead>\n",
       "<tbody>\n",
       "\t<tr><th scope=row>1</th><td>-1.22681509</td><td>0.8866905</td><td>1</td></tr>\n",
       "\t<tr><th scope=row>2</th><td> 0.03615287</td><td>1.2958639</td><td>1</td></tr>\n",
       "\t<tr><th scope=row>3</th><td>-0.42139311</td><td>1.2022689</td><td>1</td></tr>\n",
       "\t<tr><th scope=row>4</th><td>-0.89936441</td><td>1.5634130</td><td>2</td></tr>\n",
       "\t<tr><th scope=row>5</th><td> 0.41744132</td><td>2.1409356</td><td>2</td></tr>\n",
       "\t<tr><th scope=row>6</th><td> 0.15344474</td><td>2.2571843</td><td>2</td></tr>\n",
       "</tbody>\n",
       "</table>\n"
      ],
      "text/latex": [
       "A data.frame: 6 × 3\n",
       "\\begin{tabular}{r|lll}\n",
       "  & x & y & groups\\\\\n",
       "  & <dbl> & <dbl> & <fct>\\\\\n",
       "\\hline\n",
       "\t1 & -1.22681509 & 0.8866905 & 1\\\\\n",
       "\t2 &  0.03615287 & 1.2958639 & 1\\\\\n",
       "\t3 & -0.42139311 & 1.2022689 & 1\\\\\n",
       "\t4 & -0.89936441 & 1.5634130 & 2\\\\\n",
       "\t5 &  0.41744132 & 2.1409356 & 2\\\\\n",
       "\t6 &  0.15344474 & 2.2571843 & 2\\\\\n",
       "\\end{tabular}\n"
      ],
      "text/markdown": [
       "\n",
       "A data.frame: 6 × 3\n",
       "\n",
       "| <!--/--> | x &lt;dbl&gt; | y &lt;dbl&gt; | groups &lt;fct&gt; |\n",
       "|---|---|---|---|\n",
       "| 1 | -1.22681509 | 0.8866905 | 1 |\n",
       "| 2 |  0.03615287 | 1.2958639 | 1 |\n",
       "| 3 | -0.42139311 | 1.2022689 | 1 |\n",
       "| 4 | -0.89936441 | 1.5634130 | 2 |\n",
       "| 5 |  0.41744132 | 2.1409356 | 2 |\n",
       "| 6 |  0.15344474 | 2.2571843 | 2 |\n",
       "\n"
      ],
      "text/plain": [
       "  x           y         groups\n",
       "1 -1.22681509 0.8866905 1     \n",
       "2  0.03615287 1.2958639 1     \n",
       "3 -0.42139311 1.2022689 1     \n",
       "4 -0.89936441 1.5634130 2     \n",
       "5  0.41744132 2.1409356 2     \n",
       "6  0.15344474 2.2571843 2     "
      ]
     },
     "metadata": {},
     "output_type": "display_data"
    }
   ],
   "source": [
    "set.seed(1234)\n",
    "Ngroups = 100\n",
    "NperGroup = 3\n",
    "N = Ngroups * NperGroup\n",
    "groups = factor(rep(1:Ngroups, each=NperGroup))\n",
    "u = rnorm(Ngroups, sd=.5)\n",
    "e = rnorm(N, sd=.25)\n",
    "x = rnorm(N)\n",
    "y = 2 + .5*x + u[groups] + e\n",
    "\n",
    "d = data.frame(x, y, groups)\n",
    "head(d)"
   ]
  },
  {
   "cell_type": "code",
   "execution_count": 9,
   "metadata": {},
   "outputs": [
    {
     "name": "stderr",
     "output_type": "stream",
     "text": [
      "\n",
      "Attaching package: ‘lmerTest’\n",
      "\n",
      "\n",
      "The following object is masked from ‘package:lme4’:\n",
      "\n",
      "    lmer\n",
      "\n",
      "\n",
      "The following object is masked from ‘package:stats’:\n",
      "\n",
      "    step\n",
      "\n",
      "\n"
     ]
    },
    {
     "data": {
      "text/plain": [
       "Linear mixed model fit by REML. t-tests use Satterthwaite's method [\n",
       "lmerModLmerTest]\n",
       "Formula: y ~ x + (1 | groups)\n",
       "   Data: d\n",
       "\n",
       "REML criterion at convergence: 276.6\n",
       "\n",
       "Scaled residuals: \n",
       "     Min       1Q   Median       3Q      Max \n",
       "-2.28382 -0.54016 -0.03464  0.54466  2.46986 \n",
       "\n",
       "Random effects:\n",
       " Groups   Name        Variance Std.Dev.\n",
       " groups   (Intercept) 0.22908  0.4786  \n",
       " Residual             0.06254  0.2501  \n",
       "Number of obs: 300, groups:  groups, 100\n",
       "\n",
       "Fixed effects:\n",
       "             Estimate Std. Error        df t value Pr(>|t|)    \n",
       "(Intercept)   1.93788    0.05001  99.05904   38.75   <2e-16 ***\n",
       "x             0.50747    0.01752 215.13172   28.97   <2e-16 ***\n",
       "---\n",
       "Signif. codes:  0 ‘***’ 0.001 ‘**’ 0.01 ‘*’ 0.05 ‘.’ 0.1 ‘ ’ 1\n",
       "\n",
       "Correlation of Fixed Effects:\n",
       "  (Intr)\n",
       "x 0.029 "
      ]
     },
     "metadata": {},
     "output_type": "display_data"
    }
   ],
   "source": [
    "library(lmerTest)\n",
    "model = lmer(y ~ x + (1|groups), data=d)\n",
    "summary(model)"
   ]
  },
  {
   "cell_type": "code",
   "execution_count": 10,
   "metadata": {},
   "outputs": [
    {
     "name": "stderr",
     "output_type": "stream",
     "text": [
      "Computing profile confidence intervals ...\n",
      "\n"
     ]
    },
    {
     "data": {
      "text/html": [
       "<table class=\"dataframe\">\n",
       "<caption>A matrix: 4 × 2 of type dbl</caption>\n",
       "<thead>\n",
       "\t<tr><th></th><th scope=col>2.5 %</th><th scope=col>97.5 %</th></tr>\n",
       "</thead>\n",
       "<tbody>\n",
       "\t<tr><th scope=row>.sig01</th><td>0.4108568</td><td>0.5568699</td></tr>\n",
       "\t<tr><th scope=row>.sigma</th><td>0.2268842</td><td>0.2760810</td></tr>\n",
       "\t<tr><th scope=row>(Intercept)</th><td>1.8394120</td><td>2.0363239</td></tr>\n",
       "\t<tr><th scope=row>x</th><td>0.4731324</td><td>0.5419848</td></tr>\n",
       "</tbody>\n",
       "</table>\n"
      ],
      "text/latex": [
       "A matrix: 4 × 2 of type dbl\n",
       "\\begin{tabular}{r|ll}\n",
       "  & 2.5 \\% & 97.5 \\%\\\\\n",
       "\\hline\n",
       "\t.sig01 & 0.4108568 & 0.5568699\\\\\n",
       "\t.sigma & 0.2268842 & 0.2760810\\\\\n",
       "\t(Intercept) & 1.8394120 & 2.0363239\\\\\n",
       "\tx & 0.4731324 & 0.5419848\\\\\n",
       "\\end{tabular}\n"
      ],
      "text/markdown": [
       "\n",
       "A matrix: 4 × 2 of type dbl\n",
       "\n",
       "| <!--/--> | 2.5 % | 97.5 % |\n",
       "|---|---|---|\n",
       "| .sig01 | 0.4108568 | 0.5568699 |\n",
       "| .sigma | 0.2268842 | 0.2760810 |\n",
       "| (Intercept) | 1.8394120 | 2.0363239 |\n",
       "| x | 0.4731324 | 0.5419848 |\n",
       "\n"
      ],
      "text/plain": [
       "            2.5 %     97.5 %   \n",
       ".sig01      0.4108568 0.5568699\n",
       ".sigma      0.2268842 0.2760810\n",
       "(Intercept) 1.8394120 2.0363239\n",
       "x           0.4731324 0.5419848"
      ]
     },
     "metadata": {},
     "output_type": "display_data"
    }
   ],
   "source": [
    "confint(model)"
   ]
  },
  {
   "cell_type": "code",
   "execution_count": 11,
   "metadata": {},
   "outputs": [
    {
     "data": {
      "image/png": "[encoded data removed]",
      "text/plain": [
       "plot without title"
      ]
     },
     "metadata": {
      "image/png": {
       "height": 420,
       "width": 420
      }
     },
     "output_type": "display_data"
    }
   ],
   "source": [
    "library(ggplot2)\n",
    "ggplot(aes(x, y), data=d) +\n",
    "    geom_point()"
   ]
  },
  {
   "cell_type": "code",
   "execution_count": 12,
   "metadata": {},
   "outputs": [],
   "source": [
    "re = ranef(model)$groups\n",
    "# qplot(x=re, geom='density', xlim=c(-3,3))\n",
    "names(re) = paste(\"Intercept\")"
   ]
  },
  {
   "cell_type": "code",
   "execution_count": 13,
   "metadata": {},
   "outputs": [
    {
     "data": {
      "image/png": "[encoded data removed]",
      "text/plain": [
       "plot without title"
      ]
     },
     "metadata": {
      "image/png": {
       "height": 420,
       "width": 420
      }
     },
     "output_type": "display_data"
    }
   ],
   "source": [
    "ggplot(re, aes(x=Intercept)) +\n",
    "    geom_density()"
   ]
  },
  {
   "cell_type": "code",
   "execution_count": null,
   "metadata": {},
   "outputs": [],
   "source": []
  }
 ],
 "metadata": {
  "kernelspec": {
   "display_name": "R",
   "language": "R",
   "name": "ir"
  },
  "language_info": {
   "codemirror_mode": "r",
   "file_extension": ".r",
   "mimetype": "text/x-r-source",
   "name": "R",
   "pygments_lexer": "r",
   "version": "4.0.3"
  }
 },
 "nbformat": 4,
 "nbformat_minor": 4
}
